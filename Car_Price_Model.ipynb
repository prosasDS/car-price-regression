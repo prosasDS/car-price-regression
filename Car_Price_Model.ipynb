{
  "nbformat": 4,
  "nbformat_minor": 0,
  "metadata": {
    "colab": {
      "name": "Car_Price_Model.ipynb",
      "provenance": []
    },
    "kernelspec": {
      "name": "python3",
      "display_name": "Python 3"
    }
  },
  "cells": [
    {
      "cell_type": "code",
      "metadata": {
        "id": "AmgAUaTXUFox"
      },
      "source": [
        "#Importing libraries\r\n",
        "\r\n",
        "#Essentials\r\n",
        "import pandas as pd \r\n",
        "import numpy as np\r\n",
        "\r\n",
        "#models & preprocessing tools\r\n",
        "import sklearn\r\n",
        "import sklearn.model_selection\r\n",
        "import sklearn.preprocessing\r\n",
        "\r\n",
        "# Statistics\r\n",
        "from scipy.stats import skew, norm\r\n",
        "from scipy.special import boxcox1p\r\n",
        "from scipy.stats import boxcox_normmax\r\n",
        "\r\n",
        "#graphs \r\n",
        "import matplotlib.pyplot as plt\r\n",
        "import seaborn as sns \r\n",
        "sns.set\r\n",
        "\r\n",
        "#ignore warnings and pd settings\r\n",
        "import warnings\r\n",
        "warnings.filterwarnings(action=\"ignore\")\r\n",
        "pd.options.display.max_seq_items = 8000\r\n",
        "pd.options.display.max_rows = 8000\r\n",
        "\r\n",
        "import os"
      ],
      "execution_count": 1,
      "outputs": []
    },
    {
      "cell_type": "code",
      "metadata": {
        "colab": {
          "base_uri": "https://localhost:8080/",
          "height": 195
        },
        "id": "UTxtP-0dUKgm",
        "outputId": "3cef1d3d-9a83-4af7-a5e2-39a61a74e21b"
      },
      "source": [
        "#loading preprocessed data\r\n",
        "\r\n",
        "data_final = pd.read_csv('data_preprocessed.csv')\r\n",
        "data_final = data_final.drop('Unnamed: 0', axis = 1)\r\n",
        "\r\n",
        "data_final.head()"
      ],
      "execution_count": 2,
      "outputs": [
        {
          "output_type": "execute_result",
          "data": {
            "text/html": [
              "<div>\n",
              "<style scoped>\n",
              "    .dataframe tbody tr th:only-of-type {\n",
              "        vertical-align: middle;\n",
              "    }\n",
              "\n",
              "    .dataframe tbody tr th {\n",
              "        vertical-align: top;\n",
              "    }\n",
              "\n",
              "    .dataframe thead th {\n",
              "        text-align: right;\n",
              "    }\n",
              "</style>\n",
              "<table border=\"1\" class=\"dataframe\">\n",
              "  <thead>\n",
              "    <tr style=\"text-align: right;\">\n",
              "      <th></th>\n",
              "      <th>year</th>\n",
              "      <th>selling_price</th>\n",
              "      <th>km_driven</th>\n",
              "      <th>owner</th>\n",
              "      <th>fuel_Diesel</th>\n",
              "      <th>seller_type_Dealer</th>\n",
              "      <th>transmission_Manual</th>\n",
              "    </tr>\n",
              "  </thead>\n",
              "  <tbody>\n",
              "    <tr>\n",
              "      <th>0</th>\n",
              "      <td>0.722973</td>\n",
              "      <td>13.017003</td>\n",
              "      <td>-0.500300</td>\n",
              "      <td>2</td>\n",
              "      <td>0</td>\n",
              "      <td>0</td>\n",
              "      <td>1</td>\n",
              "    </tr>\n",
              "    <tr>\n",
              "      <th>1</th>\n",
              "      <td>0.722973</td>\n",
              "      <td>12.384219</td>\n",
              "      <td>-0.300267</td>\n",
              "      <td>0</td>\n",
              "      <td>0</td>\n",
              "      <td>1</td>\n",
              "      <td>1</td>\n",
              "    </tr>\n",
              "    <tr>\n",
              "      <th>2</th>\n",
              "      <td>-0.020709</td>\n",
              "      <td>12.206073</td>\n",
              "      <td>1.057428</td>\n",
              "      <td>0</td>\n",
              "      <td>0</td>\n",
              "      <td>0</td>\n",
              "      <td>1</td>\n",
              "    </tr>\n",
              "    <tr>\n",
              "      <th>3</th>\n",
              "      <td>1.218146</td>\n",
              "      <td>13.474428</td>\n",
              "      <td>-4.523633</td>\n",
              "      <td>0</td>\n",
              "      <td>0</td>\n",
              "      <td>1</td>\n",
              "      <td>0</td>\n",
              "    </tr>\n",
              "    <tr>\n",
              "      <th>4</th>\n",
              "      <td>-0.268849</td>\n",
              "      <td>11.775290</td>\n",
              "      <td>1.057428</td>\n",
              "      <td>0</td>\n",
              "      <td>1</td>\n",
              "      <td>0</td>\n",
              "      <td>1</td>\n",
              "    </tr>\n",
              "  </tbody>\n",
              "</table>\n",
              "</div>"
            ],
            "text/plain": [
              "       year  selling_price  ...  seller_type_Dealer  transmission_Manual\n",
              "0  0.722973      13.017003  ...                   0                    1\n",
              "1  0.722973      12.384219  ...                   1                    1\n",
              "2 -0.020709      12.206073  ...                   0                    1\n",
              "3  1.218146      13.474428  ...                   1                    0\n",
              "4 -0.268849      11.775290  ...                   0                    1\n",
              "\n",
              "[5 rows x 7 columns]"
            ]
          },
          "metadata": {
            "tags": []
          },
          "execution_count": 2
        }
      ]
    },
    {
      "cell_type": "code",
      "metadata": {
        "id": "nqGr6a0vd-IY"
      },
      "source": [
        "#splitting test and train sets\r\n",
        "\r\n",
        "from sklearn.model_selection import train_test_split\r\n",
        "\r\n",
        "x = data_final.drop('selling_price', axis = 1)\r\n",
        "y = data_final.iloc[:,1]\r\n",
        "\r\n",
        "x_train, x_test, y_train, y_test = train_test_split(x, y, test_size = 0.2)"
      ],
      "execution_count": 7,
      "outputs": []
    },
    {
      "cell_type": "code",
      "metadata": {
        "id": "6xHW84yucL79"
      },
      "source": [
        "#model selection\r\n",
        "\r\n",
        "#A function for exploring the performance of several models:\r\n",
        "\r\n",
        "def models(x_train, y_train):\r\n",
        "  \r\n",
        "  #random forest regressor \r\n",
        "  from sklearn.ensemble import RandomForestRegressor\r\n",
        "  forest = RandomForestRegressor()\r\n",
        "  forest.fit(x_train, y_train)\r\n",
        "\r\n",
        "  #extremely randomized trees \r\n",
        "  from sklearn.ensemble import ExtraTreesRegressor\r\n",
        "  extra = ExtraTreesRegressor()\r\n",
        "  extra.fit(x_train, y_train)\r\n",
        "\r\n",
        "  #k-nearest neighbor regressor (with uniform weights)\r\n",
        "  from sklearn.neighbors import KNeighborsRegressor\r\n",
        "  k_nearest_u = KNeighborsRegressor()\r\n",
        "  k_nearest_u.fit(x_train, y_train)\r\n",
        "\r\n",
        "  #k-nearest neighbor regressor (with distance-based weights)\r\n",
        "  from sklearn.neighbors import KNeighborsRegressor\r\n",
        "  k_nearest_d = KNeighborsRegressor(weights = 'distance')\r\n",
        "  k_nearest_d.fit(x_train, y_train)\r\n",
        "\r\n",
        "  #Support vector machine regressor (several types of kernel)\r\n",
        "  from sklearn.svm import SVR\r\n",
        "  svr_rbf = SVR(kernel = 'rbf')\r\n",
        "  svr_linear = SVR(kernel = 'linear')\r\n",
        "  svr_poly = SVR(kernel = 'poly')\r\n",
        "  svr_rbf.fit(x_train, y_train)\r\n",
        "  svr_linear.fit(x_train, y_train)\r\n",
        "  svr_poly.fit(x_train, y_train)\r\n",
        "\r\n",
        "  #Printing the training accuracy of each model: \r\n",
        "  print('[0]Random Forest Accuracy:', forest.score(x_train, y_train))\r\n",
        "  print('[1]Extra Trees Accuracy:', extra.score(x_train, y_train))\r\n",
        "  print('[2]K-Nearest Uniform Accuracy:', k_nearest_u.score(x_train, y_train))\r\n",
        "  print('[3]K-Nearest Distance Accuracy:', k_nearest_d.score(x_train, y_train))\r\n",
        "  print('[4]SVR Accuracy:', svr_rbf.score(x_train, y_train))\r\n",
        "  print('[5]SVR linear Accuracy:', svr_linear.score(x_train, y_train))\r\n",
        "  print('[6]SVR poly Accuracy:', svr_poly.score(x_train, y_train))\r\n",
        "\r\n",
        "  return forest, extra, k_nearest_u, k_nearest_d, svr_rbf, svr_linear, svr_poly"
      ],
      "execution_count": 8,
      "outputs": []
    },
    {
      "cell_type": "code",
      "metadata": {
        "colab": {
          "base_uri": "https://localhost:8080/"
        },
        "id": "gVubKWkTdNeY",
        "outputId": "1e3e8795-2046-4454-f97a-a499eb9088ef"
      },
      "source": [
        "#evaluating training accuracy\r\n",
        "model = models(x_train, y_train.ravel())"
      ],
      "execution_count": 9,
      "outputs": [
        {
          "output_type": "stream",
          "text": [
            "[0]Random Forest Accuracy: 0.889793418921609\n",
            "[1]Extra Trees Accuracy: 0.9147903675199582\n",
            "[2]K-Nearest Uniform Accuracy: 0.7673129331968578\n",
            "[3]K-Nearest Distance Accuracy: 0.910267294758325\n",
            "[4]SVR Accuracy: 0.7099180895694458\n",
            "[5]SVR linear Accuracy: 0.6746237917997775\n",
            "[6]SVR poly Accuracy: 0.6788679424951374\n"
          ],
          "name": "stdout"
        }
      ]
    },
    {
      "cell_type": "code",
      "metadata": {
        "colab": {
          "base_uri": "https://localhost:8080/"
        },
        "id": "VyrFHgQVdXAu",
        "outputId": "b56414ef-9ef8-4f75-a6e1-fe8d5e66a4ad"
      },
      "source": [
        "#comparing test accuracy for the models \r\n",
        "\r\n",
        "for i in range(len(model)):\r\n",
        "  test_score = model[i].score(x_test, y_test)\r\n",
        "  print('Model[{}] Testing Accuracy: {}'.format(i, test_score)) "
      ],
      "execution_count": 10,
      "outputs": [
        {
          "output_type": "stream",
          "text": [
            "Model[0] Testing Accuracy: 0.7034009154351035\n",
            "Model[1] Testing Accuracy: 0.665627791928772\n",
            "Model[2] Testing Accuracy: 0.6715214687171003\n",
            "Model[3] Testing Accuracy: 0.688481011108344\n",
            "Model[4] Testing Accuracy: 0.685601194149401\n",
            "Model[5] Testing Accuracy: 0.6630392509372725\n",
            "Model[6] Testing Accuracy: 0.6621304784705087\n"
          ],
          "name": "stdout"
        }
      ]
    },
    {
      "cell_type": "code",
      "metadata": {
        "id": "PURdFDhZ48X4"
      },
      "source": [
        "#random forest regressor seems to have the best performance"
      ],
      "execution_count": 11,
      "outputs": []
    },
    {
      "cell_type": "code",
      "metadata": {
        "id": "dPI35q1SdQTa"
      },
      "source": [
        "#preparing for hyper parameter tuning\r\n",
        "\r\n",
        "n_estimators = [int(x) for x in np.linspace(start = 100, stop = 1200, num = 12)]\r\n",
        "max_features = ['auto', 'sqrt']\r\n",
        "max_depth = [int(x) for x in np.linspace(start = 5, stop = 30, num = 6)]\r\n",
        "min_samples_split = [2, 5, 10, 15, 100]\r\n",
        "min_samples_leaf = [1, 2, 5, 10]"
      ],
      "execution_count": 12,
      "outputs": []
    },
    {
      "cell_type": "code",
      "metadata": {
        "colab": {
          "base_uri": "https://localhost:8080/"
        },
        "id": "TFBxfwSZfeUi",
        "outputId": "722e7fc3-83d9-4cec-85c8-c0bcca95b5e6"
      },
      "source": [
        "#hyper parameter tuning using randomized search CV\r\n",
        "\r\n",
        "from sklearn.ensemble import RandomForestRegressor\r\n",
        "from sklearn.model_selection import RandomizedSearchCV\r\n",
        "\r\n",
        "rfr = RandomForestRegressor() #creating new instance of the model \r\n",
        "\r\n",
        "#creating grid to feed into RandomizedSearchCV\r\n",
        "parameter_grid = {'n_estimators': n_estimators,\r\n",
        "                  'max_features': max_features,\r\n",
        "                  'max_depth': max_depth, \r\n",
        "                  'min_samples_split': min_samples_split,\r\n",
        "                  'min_samples_leaf': min_samples_leaf}\r\n",
        "\r\n",
        "rfr_random = RandomizedSearchCV(estimator = rfr, param_distributions = parameter_grid, n_iter = 10, cv = 10, verbose = True, random_state = 13, scoring = 'neg_mean_squared_error')\r\n",
        "rfr_random.fit(x_train, y_train)"
      ],
      "execution_count": 13,
      "outputs": [
        {
          "output_type": "stream",
          "text": [
            "Fitting 10 folds for each of 10 candidates, totalling 100 fits\n"
          ],
          "name": "stdout"
        },
        {
          "output_type": "stream",
          "text": [
            "[Parallel(n_jobs=1)]: Using backend SequentialBackend with 1 concurrent workers.\n",
            "[Parallel(n_jobs=1)]: Done 100 out of 100 | elapsed:  2.5min finished\n"
          ],
          "name": "stderr"
        },
        {
          "output_type": "execute_result",
          "data": {
            "text/plain": [
              "RandomizedSearchCV(cv=10, error_score=nan,\n",
              "                   estimator=RandomForestRegressor(bootstrap=True,\n",
              "                                                   ccp_alpha=0.0,\n",
              "                                                   criterion='mse',\n",
              "                                                   max_depth=None,\n",
              "                                                   max_features='auto',\n",
              "                                                   max_leaf_nodes=None,\n",
              "                                                   max_samples=None,\n",
              "                                                   min_impurity_decrease=0.0,\n",
              "                                                   min_impurity_split=None,\n",
              "                                                   min_samples_leaf=1,\n",
              "                                                   min_samples_split=2,\n",
              "                                                   min_weight_fraction_leaf=0.0,\n",
              "                                                   n_estimators=100,\n",
              "                                                   n_jobs=None, oob_score=Fal...\n",
              "                   iid='deprecated', n_iter=10, n_jobs=None,\n",
              "                   param_distributions={'max_depth': [5, 10, 15, 20, 25, 30],\n",
              "                                        'max_features': ['auto', 'sqrt'],\n",
              "                                        'min_samples_leaf': [1, 2, 5, 10],\n",
              "                                        'min_samples_split': [2, 5, 10, 15,\n",
              "                                                              100],\n",
              "                                        'n_estimators': [100, 200, 300, 400,\n",
              "                                                         500, 600, 700, 800,\n",
              "                                                         900, 1000, 1100,\n",
              "                                                         1200]},\n",
              "                   pre_dispatch='2*n_jobs', random_state=13, refit=True,\n",
              "                   return_train_score=False, scoring='neg_mean_squared_error',\n",
              "                   verbose=True)"
            ]
          },
          "metadata": {
            "tags": []
          },
          "execution_count": 13
        }
      ]
    },
    {
      "cell_type": "code",
      "metadata": {
        "colab": {
          "base_uri": "https://localhost:8080/",
          "height": 330
        },
        "id": "PJbSPqd6hLzt",
        "outputId": "36ecac54-a6bb-4bf7-d499-58ffb880f33a"
      },
      "source": [
        "#model testing:\r\n",
        "\r\n",
        "pred = rfr_random.predict(x_test)\r\n",
        "\r\n",
        "error = y_test - pred\r\n",
        "\r\n",
        "print('Residuals Kurtosis:', error.kurt(),'Residuals skewness:', error.skew())\r\n",
        "print()\r\n",
        "sns.distplot(error, fit = norm)"
      ],
      "execution_count": 14,
      "outputs": [
        {
          "output_type": "stream",
          "text": [
            "Residuals Kurtosis: 0.7622492944592287 Residuals skewness: 0.1953275113324927\n",
            "\n"
          ],
          "name": "stdout"
        },
        {
          "output_type": "execute_result",
          "data": {
            "text/plain": [
              "<matplotlib.axes._subplots.AxesSubplot at 0x7f736a9baa90>"
            ]
          },
          "metadata": {
            "tags": []
          },
          "execution_count": 14
        },
        {
          "output_type": "display_data",
          "data": {
            "image/png": "[encoded data removed]",
            "text/plain": [
              "<Figure size 432x288 with 1 Axes>"
            ]
          },
          "metadata": {
            "tags": [],
            "needs_background": "light"
          }
        }
      ]
    },
    {
      "cell_type": "code",
      "metadata": {
        "colab": {
          "base_uri": "https://localhost:8080/",
          "height": 315
        },
        "id": "RD_0gCb60fMk",
        "outputId": "83630daa-4308-4b94-cc9c-5e27f50f98d3"
      },
      "source": [
        "from sklearn.metrics import r2_score\r\n",
        "\r\n",
        "print('Final model R2:', r2_score(y_test, pred))\r\n",
        "print()\r\n",
        "plt.scatter(y_test, pred)"
      ],
      "execution_count": 15,
      "outputs": [
        {
          "output_type": "stream",
          "text": [
            "Final model R2: 0.7154207636146219\n",
            "\n"
          ],
          "name": "stdout"
        },
        {
          "output_type": "execute_result",
          "data": {
            "text/plain": [
              "<matplotlib.collections.PathCollection at 0x7f73699ae358>"
            ]
          },
          "metadata": {
            "tags": []
          },
          "execution_count": 15
        },
        {
          "output_type": "display_data",
          "data": {
            "image/png": "[encoded data removed]",
            "text/plain": [
              "<Figure size 432x288 with 1 Axes>"
            ]
          },
          "metadata": {
            "tags": [],
            "needs_background": "light"
          }
        }
      ]
    },
    {
      "cell_type": "code",
      "metadata": {
        "colab": {
          "base_uri": "https://localhost:8080/"
        },
        "id": "w8pVBaEj0LGF",
        "outputId": "6472fd3c-da99-4e01-e0bc-d585f35a6968"
      },
      "source": [
        "#preparing for further model optimization with grid search cross validation\r\n",
        "\r\n",
        "rfr_random.best_params_"
      ],
      "execution_count": 16,
      "outputs": [
        {
          "output_type": "execute_result",
          "data": {
            "text/plain": [
              "{'max_depth': 10,\n",
              " 'max_features': 'sqrt',\n",
              " 'min_samples_leaf': 1,\n",
              " 'min_samples_split': 10,\n",
              " 'n_estimators': 500}"
            ]
          },
          "metadata": {
            "tags": []
          },
          "execution_count": 16
        }
      ]
    },
    {
      "cell_type": "code",
      "metadata": {
        "colab": {
          "base_uri": "https://localhost:8080/"
        },
        "id": "qJKkW8oP9RYO",
        "outputId": "f3a794e9-a6a1-4799-bfc3-24680df4c98c"
      },
      "source": [
        "#grid search CV \r\n",
        "\r\n",
        "from sklearn.model_selection import GridSearchCV\r\n",
        "\r\n",
        "rfgrid = RandomForestRegressor()\r\n",
        "\r\n",
        "param_grid     = {'n_estimators': [500], #here I replace some hyper parameters with their best found by Random search CV for efficiency\r\n",
        "                  'max_features': ['sqrt'],\r\n",
        "                  'max_depth': max_depth, \r\n",
        "                  'min_samples_split': min_samples_split,\r\n",
        "                  'min_samples_leaf': min_samples_leaf}\r\n",
        "\r\n",
        "rfr_grid = GridSearchCV(estimator = rfr, param_grid = param_grid, cv = 10, verbose = True, scoring = 'neg_mean_squared_error')\r\n",
        "rfr_grid.fit(x_train, y_train)"
      ],
      "execution_count": 17,
      "outputs": [
        {
          "output_type": "stream",
          "text": [
            "Fitting 10 folds for each of 120 candidates, totalling 1200 fits\n"
          ],
          "name": "stdout"
        },
        {
          "output_type": "stream",
          "text": [
            "[Parallel(n_jobs=1)]: Using backend SequentialBackend with 1 concurrent workers.\n",
            "[Parallel(n_jobs=1)]: Done 1200 out of 1200 | elapsed: 22.4min finished\n"
          ],
          "name": "stderr"
        },
        {
          "output_type": "execute_result",
          "data": {
            "text/plain": [
              "GridSearchCV(cv=10, error_score=nan,\n",
              "             estimator=RandomForestRegressor(bootstrap=True, ccp_alpha=0.0,\n",
              "                                             criterion='mse', max_depth=None,\n",
              "                                             max_features='auto',\n",
              "                                             max_leaf_nodes=None,\n",
              "                                             max_samples=None,\n",
              "                                             min_impurity_decrease=0.0,\n",
              "                                             min_impurity_split=None,\n",
              "                                             min_samples_leaf=1,\n",
              "                                             min_samples_split=2,\n",
              "                                             min_weight_fraction_leaf=0.0,\n",
              "                                             n_estimators=100, n_jobs=None,\n",
              "                                             oob_score=False, random_state=None,\n",
              "                                             verbose=0, warm_start=False),\n",
              "             iid='deprecated', n_jobs=None,\n",
              "             param_grid={'max_depth': [5, 10, 15, 20, 25, 30],\n",
              "                         'max_features': ['sqrt'],\n",
              "                         'min_samples_leaf': [1, 2, 5, 10],\n",
              "                         'min_samples_split': [2, 5, 10, 15, 100],\n",
              "                         'n_estimators': [500]},\n",
              "             pre_dispatch='2*n_jobs', refit=True, return_train_score=False,\n",
              "             scoring='neg_mean_squared_error', verbose=True)"
            ]
          },
          "metadata": {
            "tags": []
          },
          "execution_count": 17
        }
      ]
    },
    {
      "cell_type": "code",
      "metadata": {
        "colab": {
          "base_uri": "https://localhost:8080/",
          "height": 330
        },
        "id": "MEae2NiMHYL6",
        "outputId": "647e431c-08d4-4fab-9238-2ccfb1211db9"
      },
      "source": [
        "#testing the new model\r\n",
        "\r\n",
        "prediction = rfr_grid.predict(x_test)\r\n",
        "\r\n",
        "loss = y_test - prediction\r\n",
        "\r\n",
        "print('Residuals Kurtosis:', loss.kurt(),'Residuals skewness:', loss.skew())\r\n",
        "print()\r\n",
        "sns.distplot(loss, fit = norm)"
      ],
      "execution_count": 18,
      "outputs": [
        {
          "output_type": "stream",
          "text": [
            "Residuals Kurtosis: 1.0061441575977677 Residuals skewness: 0.258662724473596\n",
            "\n"
          ],
          "name": "stdout"
        },
        {
          "output_type": "execute_result",
          "data": {
            "text/plain": [
              "<matplotlib.axes._subplots.AxesSubplot at 0x7f7369958e10>"
            ]
          },
          "metadata": {
            "tags": []
          },
          "execution_count": 18
        },
        {
          "output_type": "display_data",
          "data": {
            "image/png": "[encoded data removed]",
            "text/plain": [
              "<Figure size 432x288 with 1 Axes>"
            ]
          },
          "metadata": {
            "tags": [],
            "needs_background": "light"
          }
        }
      ]
    },
    {
      "cell_type": "code",
      "metadata": {
        "colab": {
          "base_uri": "https://localhost:8080/",
          "height": 315
        },
        "id": "YfjhlQjkHmiE",
        "outputId": "7d89f4ea-8644-4031-da39-c76ce32c69ba"
      },
      "source": [
        "from sklearn.metrics import r2_score\r\n",
        "\r\n",
        "print('Final model R2:', r2_score(y_test, prediction))\r\n",
        "print()\r\n",
        "plt.scatter(y_test, prediction)"
      ],
      "execution_count": 19,
      "outputs": [
        {
          "output_type": "stream",
          "text": [
            "Final model R2: 0.7204884822823434\n",
            "\n"
          ],
          "name": "stdout"
        },
        {
          "output_type": "execute_result",
          "data": {
            "text/plain": [
              "<matplotlib.collections.PathCollection at 0x7f7369833240>"
            ]
          },
          "metadata": {
            "tags": []
          },
          "execution_count": 19
        },
        {
          "output_type": "display_data",
          "data": {
            "image/png": "[encoded data removed]",
            "text/plain": [
              "<Figure size 432x288 with 1 Axes>"
            ]
          },
          "metadata": {
            "tags": [],
            "needs_background": "light"
          }
        }
      ]
    },
    {
      "cell_type": "code",
      "metadata": {
        "id": "njlX4aq1eple"
      },
      "source": [
        "#saving the optimized model for deployment phase\r\n",
        "\r\n",
        "import pickle as plk\r\n",
        "\r\n",
        "file = open('car_price_random_forest.pkl', 'wb')\r\n",
        "\r\n",
        "plk.dump(rfr_grid, file)"
      ],
      "execution_count": 22,
      "outputs": []
    }
  ]
}